{
 "cells": [
  {
   "cell_type": "code",
   "execution_count": 20,
   "metadata": {
    "ExecuteTime": {
     "end_time": "2021-07-17T16:29:26.537321Z",
     "start_time": "2021-07-17T16:29:26.535122Z"
    }
   },
   "outputs": [],
   "source": [
    "import pandas as pd\n",
    "from sqlalchemy import create_engine\n",
    "from config import username, password\n",
    "import json\n",
    "import requests \n",
    "from pprint import pprint\n",
    "import time\n",
    "import pandas as pd\n",
    "from sqlalchemy import create_engine \n",
    "from flask import jsonify"
   ]
  },
  {
   "cell_type": "code",
   "execution_count": 6,
   "metadata": {
    "ExecuteTime": {
     "end_time": "2021-07-17T16:30:42.850262Z",
     "start_time": "2021-07-17T16:30:42.839234Z"
    }
   },
   "outputs": [],
   "source": [
    "rds_connection_string = f\"postgres:postgres@localhost:5432/park_db\"\n",
    "engine = create_engine(f'postgresql://{rds_connection_string}')"
   ]
  },
  {
   "cell_type": "code",
   "execution_count": 7,
   "metadata": {},
   "outputs": [
    {
     "data": {
      "text/plain": [
       "['park',\n",
       " 'webcam_url',\n",
       " 'images',\n",
       " 'fire',\n",
       " 'sci_name',\n",
       " 'park_species',\n",
       " 'activity',\n",
       " 'park_activities',\n",
       " 'park_fee',\n",
       " 'fees']"
      ]
     },
     "execution_count": 7,
     "metadata": {},
     "output_type": "execute_result"
    }
   ],
   "source": [
    "engine.table_names()"
   ]
  },
  {
   "cell_type": "code",
   "execution_count": 8,
   "metadata": {},
   "outputs": [
    {
     "data": {
      "text/html": [
       "<div>\n",
       "<style scoped>\n",
       "    .dataframe tbody tr th:only-of-type {\n",
       "        vertical-align: middle;\n",
       "    }\n",
       "\n",
       "    .dataframe tbody tr th {\n",
       "        vertical-align: top;\n",
       "    }\n",
       "\n",
       "    .dataframe thead th {\n",
       "        text-align: right;\n",
       "    }\n",
       "</style>\n",
       "<table border=\"1\" class=\"dataframe\">\n",
       "  <thead>\n",
       "    <tr style=\"text-align: right;\">\n",
       "      <th></th>\n",
       "      <th>park_id</th>\n",
       "      <th>park_name</th>\n",
       "      <th>park_url</th>\n",
       "      <th>park_code</th>\n",
       "      <th>description</th>\n",
       "      <th>latitude</th>\n",
       "      <th>longitude</th>\n",
       "      <th>states</th>\n",
       "      <th>directions_info</th>\n",
       "      <th>directions_url</th>\n",
       "      <th>weather_info</th>\n",
       "      <th>designation</th>\n",
       "    </tr>\n",
       "  </thead>\n",
       "  <tbody>\n",
       "    <tr>\n",
       "      <th>0</th>\n",
       "      <td>77E0D7F0-1942-494A-ACE2-9004D2BDC59E</td>\n",
       "      <td>Abraham Lincoln Birthplace National Historical...</td>\n",
       "      <td>https://www.nps.gov/abli/index.htm</td>\n",
       "      <td>abli</td>\n",
       "      <td>For over a century people from around the worl...</td>\n",
       "      <td>37.585866</td>\n",
       "      <td>-85.673305</td>\n",
       "      <td>KY</td>\n",
       "      <td>The Birthplace Unit of the park is located app...</td>\n",
       "      <td>http://www.nps.gov/abli/planyourvisit/directio...</td>\n",
       "      <td>There are four distinct seasons in Central Ken...</td>\n",
       "      <td>National Historical Park</td>\n",
       "    </tr>\n",
       "    <tr>\n",
       "      <th>1</th>\n",
       "      <td>6DA17C86-088E-4B4D-B862-7C1BD5CF236B</td>\n",
       "      <td>Acadia National Park</td>\n",
       "      <td>https://www.nps.gov/acad/index.htm</td>\n",
       "      <td>acad</td>\n",
       "      <td>Acadia National Park protects the natural beau...</td>\n",
       "      <td>44.409286</td>\n",
       "      <td>-68.247501</td>\n",
       "      <td>ME</td>\n",
       "      <td>From Boston take I-95 north to Augusta, Maine,...</td>\n",
       "      <td>http://www.nps.gov/acad/planyourvisit/directio...</td>\n",
       "      <td>Located on Mount Desert Island in Maine, Acadi...</td>\n",
       "      <td>National Park</td>\n",
       "    </tr>\n",
       "    <tr>\n",
       "      <th>2</th>\n",
       "      <td>E4C7784E-66A0-4D44-87D0-3E072F5FEF43</td>\n",
       "      <td>Adams National Historical Park</td>\n",
       "      <td>https://www.nps.gov/adam/index.htm</td>\n",
       "      <td>adam</td>\n",
       "      <td>From the sweet little farm at the foot of Penn...</td>\n",
       "      <td>42.255396</td>\n",
       "      <td>-71.011604</td>\n",
       "      <td>MA</td>\n",
       "      <td>Traveling on U.S. Interstate 93, take exit 7 -...</td>\n",
       "      <td>http://www.nps.gov/adam/planyourvisit/directio...</td>\n",
       "      <td>Be prepared for hot, humid weather. The histor...</td>\n",
       "      <td>National Historical Park</td>\n",
       "    </tr>\n",
       "    <tr>\n",
       "      <th>3</th>\n",
       "      <td>1A47416F-DAA3-4137-9F30-14AF86B4E547</td>\n",
       "      <td>African American Civil War Memorial</td>\n",
       "      <td>https://www.nps.gov/afam/index.htm</td>\n",
       "      <td>afam</td>\n",
       "      <td>Over 200,000 African-American soldiers and sai...</td>\n",
       "      <td>38.916600</td>\n",
       "      <td>-77.026000</td>\n",
       "      <td>DC</td>\n",
       "      <td>The memorial is located at the corner of Vermo...</td>\n",
       "      <td>http://www.nps.gov/afam/planyourvisit/directio...</td>\n",
       "      <td>Washington DC gets to see all four seasons. Hu...</td>\n",
       "      <td>Not Available</td>\n",
       "    </tr>\n",
       "    <tr>\n",
       "      <th>4</th>\n",
       "      <td>E6E1D22A-7A89-47F8-813C-B611059A8CF9</td>\n",
       "      <td>African Burial Ground National Monument</td>\n",
       "      <td>https://www.nps.gov/afbg/index.htm</td>\n",
       "      <td>afbg</td>\n",
       "      <td>African Burial Ground is the oldest and larges...</td>\n",
       "      <td>40.714527</td>\n",
       "      <td>-74.004474</td>\n",
       "      <td>NY</td>\n",
       "      <td>The African Burial Ground National Monument is...</td>\n",
       "      <td>http://www.nps.gov/afbg/planyourvisit/directio...</td>\n",
       "      <td>http://forecast.weather.gov/MapClick.php?CityN...</td>\n",
       "      <td>National Monument</td>\n",
       "    </tr>\n",
       "  </tbody>\n",
       "</table>\n",
       "</div>"
      ],
      "text/plain": [
       "                                park_id  \\\n",
       "0  77E0D7F0-1942-494A-ACE2-9004D2BDC59E   \n",
       "1  6DA17C86-088E-4B4D-B862-7C1BD5CF236B   \n",
       "2  E4C7784E-66A0-4D44-87D0-3E072F5FEF43   \n",
       "3  1A47416F-DAA3-4137-9F30-14AF86B4E547   \n",
       "4  E6E1D22A-7A89-47F8-813C-B611059A8CF9   \n",
       "\n",
       "                                           park_name  \\\n",
       "0  Abraham Lincoln Birthplace National Historical...   \n",
       "1                               Acadia National Park   \n",
       "2                     Adams National Historical Park   \n",
       "3                African American Civil War Memorial   \n",
       "4            African Burial Ground National Monument   \n",
       "\n",
       "                             park_url park_code  \\\n",
       "0  https://www.nps.gov/abli/index.htm      abli   \n",
       "1  https://www.nps.gov/acad/index.htm      acad   \n",
       "2  https://www.nps.gov/adam/index.htm      adam   \n",
       "3  https://www.nps.gov/afam/index.htm      afam   \n",
       "4  https://www.nps.gov/afbg/index.htm      afbg   \n",
       "\n",
       "                                         description   latitude  longitude  \\\n",
       "0  For over a century people from around the worl...  37.585866 -85.673305   \n",
       "1  Acadia National Park protects the natural beau...  44.409286 -68.247501   \n",
       "2  From the sweet little farm at the foot of Penn...  42.255396 -71.011604   \n",
       "3  Over 200,000 African-American soldiers and sai...  38.916600 -77.026000   \n",
       "4  African Burial Ground is the oldest and larges...  40.714527 -74.004474   \n",
       "\n",
       "  states                                    directions_info  \\\n",
       "0     KY  The Birthplace Unit of the park is located app...   \n",
       "1     ME  From Boston take I-95 north to Augusta, Maine,...   \n",
       "2     MA  Traveling on U.S. Interstate 93, take exit 7 -...   \n",
       "3     DC  The memorial is located at the corner of Vermo...   \n",
       "4     NY  The African Burial Ground National Monument is...   \n",
       "\n",
       "                                      directions_url  \\\n",
       "0  http://www.nps.gov/abli/planyourvisit/directio...   \n",
       "1  http://www.nps.gov/acad/planyourvisit/directio...   \n",
       "2  http://www.nps.gov/adam/planyourvisit/directio...   \n",
       "3  http://www.nps.gov/afam/planyourvisit/directio...   \n",
       "4  http://www.nps.gov/afbg/planyourvisit/directio...   \n",
       "\n",
       "                                        weather_info               designation  \n",
       "0  There are four distinct seasons in Central Ken...  National Historical Park  \n",
       "1  Located on Mount Desert Island in Maine, Acadi...             National Park  \n",
       "2  Be prepared for hot, humid weather. The histor...  National Historical Park  \n",
       "3  Washington DC gets to see all four seasons. Hu...             Not Available  \n",
       "4  http://forecast.weather.gov/MapClick.php?CityN...         National Monument  "
      ]
     },
     "execution_count": 8,
     "metadata": {},
     "output_type": "execute_result"
    }
   ],
   "source": [
    "df = pd.read_sql_query('select * from park', con=engine).head()\n",
    "df"
   ]
  },
  {
   "cell_type": "code",
   "execution_count": 13,
   "metadata": {},
   "outputs": [
    {
     "data": {
      "text/html": [
       "<div>\n",
       "<style scoped>\n",
       "    .dataframe tbody tr th:only-of-type {\n",
       "        vertical-align: middle;\n",
       "    }\n",
       "\n",
       "    .dataframe tbody tr th {\n",
       "        vertical-align: top;\n",
       "    }\n",
       "\n",
       "    .dataframe thead th {\n",
       "        text-align: right;\n",
       "    }\n",
       "</style>\n",
       "<table border=\"1\" class=\"dataframe\">\n",
       "  <thead>\n",
       "    <tr style=\"text-align: right;\">\n",
       "      <th></th>\n",
       "      <th>park_id</th>\n",
       "      <th>park_name</th>\n",
       "      <th>park_url</th>\n",
       "      <th>park_code</th>\n",
       "      <th>description</th>\n",
       "      <th>latitude</th>\n",
       "      <th>longitude</th>\n",
       "      <th>states</th>\n",
       "      <th>directions_info</th>\n",
       "      <th>directions_url</th>\n",
       "      <th>weather_info</th>\n",
       "      <th>designation</th>\n",
       "      <th>long_lat</th>\n",
       "      <th>lat_lon</th>\n",
       "    </tr>\n",
       "  </thead>\n",
       "  <tbody>\n",
       "    <tr>\n",
       "      <th>0</th>\n",
       "      <td>77E0D7F0-1942-494A-ACE2-9004D2BDC59E</td>\n",
       "      <td>Abraham Lincoln Birthplace National Historical...</td>\n",
       "      <td>https://www.nps.gov/abli/index.htm</td>\n",
       "      <td>abli</td>\n",
       "      <td>For over a century people from around the worl...</td>\n",
       "      <td>37.585866</td>\n",
       "      <td>-85.673305</td>\n",
       "      <td>KY</td>\n",
       "      <td>The Birthplace Unit of the park is located app...</td>\n",
       "      <td>http://www.nps.gov/abli/planyourvisit/directio...</td>\n",
       "      <td>There are four distinct seasons in Central Ken...</td>\n",
       "      <td>National Historical Park</td>\n",
       "      <td>(37.5858662, -85.67330523)</td>\n",
       "      <td>(37.5858662, -85.67330523)</td>\n",
       "    </tr>\n",
       "    <tr>\n",
       "      <th>1</th>\n",
       "      <td>6DA17C86-088E-4B4D-B862-7C1BD5CF236B</td>\n",
       "      <td>Acadia National Park</td>\n",
       "      <td>https://www.nps.gov/acad/index.htm</td>\n",
       "      <td>acad</td>\n",
       "      <td>Acadia National Park protects the natural beau...</td>\n",
       "      <td>44.409286</td>\n",
       "      <td>-68.247501</td>\n",
       "      <td>ME</td>\n",
       "      <td>From Boston take I-95 north to Augusta, Maine,...</td>\n",
       "      <td>http://www.nps.gov/acad/planyourvisit/directio...</td>\n",
       "      <td>Located on Mount Desert Island in Maine, Acadi...</td>\n",
       "      <td>National Park</td>\n",
       "      <td>(44.409286, -68.247501)</td>\n",
       "      <td>(44.409286, -68.247501)</td>\n",
       "    </tr>\n",
       "    <tr>\n",
       "      <th>2</th>\n",
       "      <td>E4C7784E-66A0-4D44-87D0-3E072F5FEF43</td>\n",
       "      <td>Adams National Historical Park</td>\n",
       "      <td>https://www.nps.gov/adam/index.htm</td>\n",
       "      <td>adam</td>\n",
       "      <td>From the sweet little farm at the foot of Penn...</td>\n",
       "      <td>42.255396</td>\n",
       "      <td>-71.011604</td>\n",
       "      <td>MA</td>\n",
       "      <td>Traveling on U.S. Interstate 93, take exit 7 -...</td>\n",
       "      <td>http://www.nps.gov/adam/planyourvisit/directio...</td>\n",
       "      <td>Be prepared for hot, humid weather. The histor...</td>\n",
       "      <td>National Historical Park</td>\n",
       "      <td>(42.2553961, -71.01160356)</td>\n",
       "      <td>(42.2553961, -71.01160356)</td>\n",
       "    </tr>\n",
       "    <tr>\n",
       "      <th>3</th>\n",
       "      <td>1A47416F-DAA3-4137-9F30-14AF86B4E547</td>\n",
       "      <td>African American Civil War Memorial</td>\n",
       "      <td>https://www.nps.gov/afam/index.htm</td>\n",
       "      <td>afam</td>\n",
       "      <td>Over 200,000 African-American soldiers and sai...</td>\n",
       "      <td>38.916600</td>\n",
       "      <td>-77.026000</td>\n",
       "      <td>DC</td>\n",
       "      <td>The memorial is located at the corner of Vermo...</td>\n",
       "      <td>http://www.nps.gov/afam/planyourvisit/directio...</td>\n",
       "      <td>Washington DC gets to see all four seasons. Hu...</td>\n",
       "      <td>Not Available</td>\n",
       "      <td>(38.9166, -77.026)</td>\n",
       "      <td>(38.9166, -77.026)</td>\n",
       "    </tr>\n",
       "    <tr>\n",
       "      <th>4</th>\n",
       "      <td>E6E1D22A-7A89-47F8-813C-B611059A8CF9</td>\n",
       "      <td>African Burial Ground National Monument</td>\n",
       "      <td>https://www.nps.gov/afbg/index.htm</td>\n",
       "      <td>afbg</td>\n",
       "      <td>African Burial Ground is the oldest and larges...</td>\n",
       "      <td>40.714527</td>\n",
       "      <td>-74.004474</td>\n",
       "      <td>NY</td>\n",
       "      <td>The African Burial Ground National Monument is...</td>\n",
       "      <td>http://www.nps.gov/afbg/planyourvisit/directio...</td>\n",
       "      <td>http://forecast.weather.gov/MapClick.php?CityN...</td>\n",
       "      <td>National Monument</td>\n",
       "      <td>(40.71452681, -74.00447358)</td>\n",
       "      <td>(40.71452681, -74.00447358)</td>\n",
       "    </tr>\n",
       "  </tbody>\n",
       "</table>\n",
       "</div>"
      ],
      "text/plain": [
       "                                park_id  \\\n",
       "0  77E0D7F0-1942-494A-ACE2-9004D2BDC59E   \n",
       "1  6DA17C86-088E-4B4D-B862-7C1BD5CF236B   \n",
       "2  E4C7784E-66A0-4D44-87D0-3E072F5FEF43   \n",
       "3  1A47416F-DAA3-4137-9F30-14AF86B4E547   \n",
       "4  E6E1D22A-7A89-47F8-813C-B611059A8CF9   \n",
       "\n",
       "                                           park_name  \\\n",
       "0  Abraham Lincoln Birthplace National Historical...   \n",
       "1                               Acadia National Park   \n",
       "2                     Adams National Historical Park   \n",
       "3                African American Civil War Memorial   \n",
       "4            African Burial Ground National Monument   \n",
       "\n",
       "                             park_url park_code  \\\n",
       "0  https://www.nps.gov/abli/index.htm      abli   \n",
       "1  https://www.nps.gov/acad/index.htm      acad   \n",
       "2  https://www.nps.gov/adam/index.htm      adam   \n",
       "3  https://www.nps.gov/afam/index.htm      afam   \n",
       "4  https://www.nps.gov/afbg/index.htm      afbg   \n",
       "\n",
       "                                         description   latitude  longitude  \\\n",
       "0  For over a century people from around the worl...  37.585866 -85.673305   \n",
       "1  Acadia National Park protects the natural beau...  44.409286 -68.247501   \n",
       "2  From the sweet little farm at the foot of Penn...  42.255396 -71.011604   \n",
       "3  Over 200,000 African-American soldiers and sai...  38.916600 -77.026000   \n",
       "4  African Burial Ground is the oldest and larges...  40.714527 -74.004474   \n",
       "\n",
       "  states                                    directions_info  \\\n",
       "0     KY  The Birthplace Unit of the park is located app...   \n",
       "1     ME  From Boston take I-95 north to Augusta, Maine,...   \n",
       "2     MA  Traveling on U.S. Interstate 93, take exit 7 -...   \n",
       "3     DC  The memorial is located at the corner of Vermo...   \n",
       "4     NY  The African Burial Ground National Monument is...   \n",
       "\n",
       "                                      directions_url  \\\n",
       "0  http://www.nps.gov/abli/planyourvisit/directio...   \n",
       "1  http://www.nps.gov/acad/planyourvisit/directio...   \n",
       "2  http://www.nps.gov/adam/planyourvisit/directio...   \n",
       "3  http://www.nps.gov/afam/planyourvisit/directio...   \n",
       "4  http://www.nps.gov/afbg/planyourvisit/directio...   \n",
       "\n",
       "                                        weather_info  \\\n",
       "0  There are four distinct seasons in Central Ken...   \n",
       "1  Located on Mount Desert Island in Maine, Acadi...   \n",
       "2  Be prepared for hot, humid weather. The histor...   \n",
       "3  Washington DC gets to see all four seasons. Hu...   \n",
       "4  http://forecast.weather.gov/MapClick.php?CityN...   \n",
       "\n",
       "                designation                     long_lat  \\\n",
       "0  National Historical Park   (37.5858662, -85.67330523)   \n",
       "1             National Park      (44.409286, -68.247501)   \n",
       "2  National Historical Park   (42.2553961, -71.01160356)   \n",
       "3             Not Available           (38.9166, -77.026)   \n",
       "4         National Monument  (40.71452681, -74.00447358)   \n",
       "\n",
       "                       lat_lon  \n",
       "0   (37.5858662, -85.67330523)  \n",
       "1      (44.409286, -68.247501)  \n",
       "2   (42.2553961, -71.01160356)  \n",
       "3           (38.9166, -77.026)  \n",
       "4  (40.71452681, -74.00447358)  "
      ]
     },
     "execution_count": 13,
     "metadata": {},
     "output_type": "execute_result"
    }
   ],
   "source": [
    "df[\"lat_lon\"] = list(zip(df['latitude'], df['longitude']))\n",
    "df"
   ]
  },
  {
   "cell_type": "code",
   "execution_count": 16,
   "metadata": {},
   "outputs": [],
   "source": [
    "lat_lon = df['lat_lon'].to_list()"
   ]
  },
  {
   "cell_type": "code",
   "execution_count": 21,
   "metadata": {},
   "outputs": [
    {
     "ename": "RuntimeError",
     "evalue": "Working outside of application context.\n\nThis typically means that you attempted to use functionality that needed\nto interface with the current application object in some way. To solve\nthis, set up an application context with app.app_context().  See the\ndocumentation for more information.",
     "output_type": "error",
     "traceback": [
      "\u001b[1;31m---------------------------------------------------------------------------\u001b[0m",
      "\u001b[1;31mRuntimeError\u001b[0m                              Traceback (most recent call last)",
      "\u001b[1;32m<ipython-input-21-0634f58976fd>\u001b[0m in \u001b[0;36m<module>\u001b[1;34m\u001b[0m\n\u001b[1;32m----> 1\u001b[1;33m \u001b[0mjsonify\u001b[0m\u001b[1;33m(\u001b[0m\u001b[0mlat_lon\u001b[0m\u001b[1;33m)\u001b[0m\u001b[1;33m\u001b[0m\u001b[1;33m\u001b[0m\u001b[0m\n\u001b[0m",
      "\u001b[1;32m~\\anaconda3\\envs\\pythondata\\lib\\site-packages\\flask\\json\\__init__.py\u001b[0m in \u001b[0;36mjsonify\u001b[1;34m(*args, **kwargs)\u001b[0m\n\u001b[0;32m    334\u001b[0m     \u001b[0mseparators\u001b[0m \u001b[1;33m=\u001b[0m \u001b[1;33m(\u001b[0m\u001b[1;34m\",\"\u001b[0m\u001b[1;33m,\u001b[0m \u001b[1;34m\":\"\u001b[0m\u001b[1;33m)\u001b[0m\u001b[1;33m\u001b[0m\u001b[1;33m\u001b[0m\u001b[0m\n\u001b[0;32m    335\u001b[0m \u001b[1;33m\u001b[0m\u001b[0m\n\u001b[1;32m--> 336\u001b[1;33m     \u001b[1;32mif\u001b[0m \u001b[0mcurrent_app\u001b[0m\u001b[1;33m.\u001b[0m\u001b[0mconfig\u001b[0m\u001b[1;33m[\u001b[0m\u001b[1;34m\"JSONIFY_PRETTYPRINT_REGULAR\"\u001b[0m\u001b[1;33m]\u001b[0m \u001b[1;32mor\u001b[0m \u001b[0mcurrent_app\u001b[0m\u001b[1;33m.\u001b[0m\u001b[0mdebug\u001b[0m\u001b[1;33m:\u001b[0m\u001b[1;33m\u001b[0m\u001b[1;33m\u001b[0m\u001b[0m\n\u001b[0m\u001b[0;32m    337\u001b[0m         \u001b[0mindent\u001b[0m \u001b[1;33m=\u001b[0m \u001b[1;36m2\u001b[0m\u001b[1;33m\u001b[0m\u001b[1;33m\u001b[0m\u001b[0m\n\u001b[0;32m    338\u001b[0m         \u001b[0mseparators\u001b[0m \u001b[1;33m=\u001b[0m \u001b[1;33m(\u001b[0m\u001b[1;34m\", \"\u001b[0m\u001b[1;33m,\u001b[0m \u001b[1;34m\": \"\u001b[0m\u001b[1;33m)\u001b[0m\u001b[1;33m\u001b[0m\u001b[1;33m\u001b[0m\u001b[0m\n",
      "\u001b[1;32m~\\anaconda3\\envs\\pythondata\\lib\\site-packages\\werkzeug\\local.py\u001b[0m in \u001b[0;36m__get__\u001b[1;34m(self, instance, owner)\u001b[0m\n\u001b[0;32m    420\u001b[0m \u001b[1;33m\u001b[0m\u001b[0m\n\u001b[0;32m    421\u001b[0m         \u001b[1;32mtry\u001b[0m\u001b[1;33m:\u001b[0m\u001b[1;33m\u001b[0m\u001b[1;33m\u001b[0m\u001b[0m\n\u001b[1;32m--> 422\u001b[1;33m             \u001b[0mobj\u001b[0m \u001b[1;33m=\u001b[0m \u001b[0minstance\u001b[0m\u001b[1;33m.\u001b[0m\u001b[0m_get_current_object\u001b[0m\u001b[1;33m(\u001b[0m\u001b[1;33m)\u001b[0m\u001b[1;33m\u001b[0m\u001b[1;33m\u001b[0m\u001b[0m\n\u001b[0m\u001b[0;32m    423\u001b[0m         \u001b[1;32mexcept\u001b[0m \u001b[0mRuntimeError\u001b[0m\u001b[1;33m:\u001b[0m\u001b[1;33m\u001b[0m\u001b[1;33m\u001b[0m\u001b[0m\n\u001b[0;32m    424\u001b[0m             \u001b[1;32mif\u001b[0m \u001b[0mself\u001b[0m\u001b[1;33m.\u001b[0m\u001b[0mfallback\u001b[0m \u001b[1;32mis\u001b[0m \u001b[1;32mNone\u001b[0m\u001b[1;33m:\u001b[0m\u001b[1;33m\u001b[0m\u001b[1;33m\u001b[0m\u001b[0m\n",
      "\u001b[1;32m~\\anaconda3\\envs\\pythondata\\lib\\site-packages\\werkzeug\\local.py\u001b[0m in \u001b[0;36m_get_current_object\u001b[1;34m(self)\u001b[0m\n\u001b[0;32m    542\u001b[0m         \"\"\"\n\u001b[0;32m    543\u001b[0m         \u001b[1;32mif\u001b[0m \u001b[1;32mnot\u001b[0m \u001b[0mhasattr\u001b[0m\u001b[1;33m(\u001b[0m\u001b[0mself\u001b[0m\u001b[1;33m.\u001b[0m\u001b[0m__local\u001b[0m\u001b[1;33m,\u001b[0m \u001b[1;34m\"__release_local__\"\u001b[0m\u001b[1;33m)\u001b[0m\u001b[1;33m:\u001b[0m  \u001b[1;31m# type: ignore\u001b[0m\u001b[1;33m\u001b[0m\u001b[1;33m\u001b[0m\u001b[0m\n\u001b[1;32m--> 544\u001b[1;33m             \u001b[1;32mreturn\u001b[0m \u001b[0mself\u001b[0m\u001b[1;33m.\u001b[0m\u001b[0m__local\u001b[0m\u001b[1;33m(\u001b[0m\u001b[1;33m)\u001b[0m  \u001b[1;31m# type: ignore\u001b[0m\u001b[1;33m\u001b[0m\u001b[1;33m\u001b[0m\u001b[0m\n\u001b[0m\u001b[0;32m    545\u001b[0m \u001b[1;33m\u001b[0m\u001b[0m\n\u001b[0;32m    546\u001b[0m         \u001b[1;32mtry\u001b[0m\u001b[1;33m:\u001b[0m\u001b[1;33m\u001b[0m\u001b[1;33m\u001b[0m\u001b[0m\n",
      "\u001b[1;32m~\\anaconda3\\envs\\pythondata\\lib\\site-packages\\flask\\globals.py\u001b[0m in \u001b[0;36m_find_app\u001b[1;34m()\u001b[0m\n\u001b[0;32m     45\u001b[0m     \u001b[0mtop\u001b[0m \u001b[1;33m=\u001b[0m \u001b[0m_app_ctx_stack\u001b[0m\u001b[1;33m.\u001b[0m\u001b[0mtop\u001b[0m\u001b[1;33m\u001b[0m\u001b[1;33m\u001b[0m\u001b[0m\n\u001b[0;32m     46\u001b[0m     \u001b[1;32mif\u001b[0m \u001b[0mtop\u001b[0m \u001b[1;32mis\u001b[0m \u001b[1;32mNone\u001b[0m\u001b[1;33m:\u001b[0m\u001b[1;33m\u001b[0m\u001b[1;33m\u001b[0m\u001b[0m\n\u001b[1;32m---> 47\u001b[1;33m         \u001b[1;32mraise\u001b[0m \u001b[0mRuntimeError\u001b[0m\u001b[1;33m(\u001b[0m\u001b[0m_app_ctx_err_msg\u001b[0m\u001b[1;33m)\u001b[0m\u001b[1;33m\u001b[0m\u001b[1;33m\u001b[0m\u001b[0m\n\u001b[0m\u001b[0;32m     48\u001b[0m     \u001b[1;32mreturn\u001b[0m \u001b[0mtop\u001b[0m\u001b[1;33m.\u001b[0m\u001b[0mapp\u001b[0m\u001b[1;33m\u001b[0m\u001b[1;33m\u001b[0m\u001b[0m\n\u001b[0;32m     49\u001b[0m \u001b[1;33m\u001b[0m\u001b[0m\n",
      "\u001b[1;31mRuntimeError\u001b[0m: Working outside of application context.\n\nThis typically means that you attempted to use functionality that needed\nto interface with the current application object in some way. To solve\nthis, set up an application context with app.app_context().  See the\ndocumentation for more information."
     ]
    }
   ],
   "source": [
    "jsonify(lat_lon)"
   ]
  },
  {
   "cell_type": "code",
   "execution_count": 6,
   "metadata": {
    "ExecuteTime": {
     "end_time": "2021-07-17T16:32:39.936452Z",
     "start_time": "2021-07-17T16:32:39.930816Z"
    }
   },
   "outputs": [],
   "source": [
    "df = pd.read_sql(\"\"\" SELECT PetalLengthCm, Species FROM Iris; \"\"\", engine)"
   ]
  },
  {
   "cell_type": "code",
   "execution_count": null,
   "metadata": {},
   "outputs": [],
   "source": []
  },
  {
   "cell_type": "code",
   "execution_count": 7,
   "metadata": {
    "ExecuteTime": {
     "end_time": "2021-07-17T16:32:43.289140Z",
     "start_time": "2021-07-17T16:32:43.282213Z"
    }
   },
   "outputs": [
    {
     "data": {
      "text/html": [
       "<div>\n",
       "<style scoped>\n",
       "    .dataframe tbody tr th:only-of-type {\n",
       "        vertical-align: middle;\n",
       "    }\n",
       "\n",
       "    .dataframe tbody tr th {\n",
       "        vertical-align: top;\n",
       "    }\n",
       "\n",
       "    .dataframe thead th {\n",
       "        text-align: right;\n",
       "    }\n",
       "</style>\n",
       "<table border=\"1\" class=\"dataframe\">\n",
       "  <thead>\n",
       "    <tr style=\"text-align: right;\">\n",
       "      <th></th>\n",
       "      <th>PetalLengthCm</th>\n",
       "      <th>Species</th>\n",
       "    </tr>\n",
       "  </thead>\n",
       "  <tbody>\n",
       "    <tr>\n",
       "      <th>0</th>\n",
       "      <td>1.4</td>\n",
       "      <td>Iris-setosa</td>\n",
       "    </tr>\n",
       "    <tr>\n",
       "      <th>1</th>\n",
       "      <td>1.4</td>\n",
       "      <td>Iris-setosa</td>\n",
       "    </tr>\n",
       "    <tr>\n",
       "      <th>2</th>\n",
       "      <td>1.3</td>\n",
       "      <td>Iris-setosa</td>\n",
       "    </tr>\n",
       "    <tr>\n",
       "      <th>3</th>\n",
       "      <td>1.5</td>\n",
       "      <td>Iris-setosa</td>\n",
       "    </tr>\n",
       "    <tr>\n",
       "      <th>4</th>\n",
       "      <td>1.4</td>\n",
       "      <td>Iris-setosa</td>\n",
       "    </tr>\n",
       "  </tbody>\n",
       "</table>\n",
       "</div>"
      ],
      "text/plain": [
       "   PetalLengthCm      Species\n",
       "0            1.4  Iris-setosa\n",
       "1            1.4  Iris-setosa\n",
       "2            1.3  Iris-setosa\n",
       "3            1.5  Iris-setosa\n",
       "4            1.4  Iris-setosa"
      ]
     },
     "execution_count": 7,
     "metadata": {},
     "output_type": "execute_result"
    }
   ],
   "source": [
    "df.head()"
   ]
  },
  {
   "cell_type": "code",
   "execution_count": 10,
   "metadata": {
    "ExecuteTime": {
     "end_time": "2021-07-17T16:34:13.208568Z",
     "start_time": "2021-07-17T16:34:13.205792Z"
    }
   },
   "outputs": [],
   "source": [
    "petal_lengths = df.PetalLengthCm.to_list()"
   ]
  },
  {
   "cell_type": "code",
   "execution_count": null,
   "metadata": {},
   "outputs": [],
   "source": [
    "jsonify(petal_lengths)"
   ]
  }
 ],
 "metadata": {
  "kernelspec": {
   "display_name": "Python [conda env:pythondata]",
   "language": "python",
   "name": "conda-env-pythondata-py"
  },
  "language_info": {
   "codemirror_mode": {
    "name": "ipython",
    "version": 3
   },
   "file_extension": ".py",
   "mimetype": "text/x-python",
   "name": "python",
   "nbconvert_exporter": "python",
   "pygments_lexer": "ipython3",
   "version": "3.6.10"
  },
  "toc": {
   "base_numbering": 1,
   "nav_menu": {},
   "number_sections": true,
   "sideBar": true,
   "skip_h1_title": false,
   "title_cell": "Table of Contents",
   "title_sidebar": "Contents",
   "toc_cell": false,
   "toc_position": {},
   "toc_section_display": true,
   "toc_window_display": false
  },
  "varInspector": {
   "cols": {
    "lenName": 16,
    "lenType": 16,
    "lenVar": 40
   },
   "kernels_config": {
    "python": {
     "delete_cmd_postfix": "",
     "delete_cmd_prefix": "del ",
     "library": "var_list.py",
     "varRefreshCmd": "print(var_dic_list())"
    },
    "r": {
     "delete_cmd_postfix": ") ",
     "delete_cmd_prefix": "rm(",
     "library": "var_list.r",
     "varRefreshCmd": "cat(var_dic_list()) "
    }
   },
   "types_to_exclude": [
    "module",
    "function",
    "builtin_function_or_method",
    "instance",
    "_Feature"
   ],
   "window_display": false
  }
 },
 "nbformat": 4,
 "nbformat_minor": 4
}
